{
 "cells": [
  {
   "cell_type": "code",
   "execution_count": 2,
   "id": "adf45c0f",
   "metadata": {},
   "outputs": [],
   "source": [
    "import pandas as pd"
   ]
  },
  {
   "cell_type": "code",
   "execution_count": 13,
   "id": "ac07aa71",
   "metadata": {},
   "outputs": [],
   "source": [
    "df = pd.read_csv(\"taxi_data_final.csv\", header=0, delimiter=\",\")"
   ]
  },
  {
   "cell_type": "code",
   "execution_count": 14,
   "id": "66c4b3ab",
   "metadata": {},
   "outputs": [
    {
     "data": {
      "text/html": [
       "<div>\n",
       "<style scoped>\n",
       "    .dataframe tbody tr th:only-of-type {\n",
       "        vertical-align: middle;\n",
       "    }\n",
       "\n",
       "    .dataframe tbody tr th {\n",
       "        vertical-align: top;\n",
       "    }\n",
       "\n",
       "    .dataframe thead th {\n",
       "        text-align: right;\n",
       "    }\n",
       "</style>\n",
       "<table border=\"1\" class=\"dataframe\">\n",
       "  <thead>\n",
       "    <tr style=\"text-align: right;\">\n",
       "      <th></th>\n",
       "      <th>secs</th>\n",
       "      <th>miles</th>\n",
       "      <th>pickup</th>\n",
       "      <th>dropoff</th>\n",
       "      <th>hour</th>\n",
       "      <th>month</th>\n",
       "      <th>day</th>\n",
       "      <th>wday</th>\n",
       "      <th>company_id</th>\n",
       "    </tr>\n",
       "  </thead>\n",
       "  <tbody>\n",
       "    <tr>\n",
       "      <th>0</th>\n",
       "      <td>1260</td>\n",
       "      <td>0.6</td>\n",
       "      <td>77</td>\n",
       "      <td>28</td>\n",
       "      <td>0</td>\n",
       "      <td>1</td>\n",
       "      <td>1</td>\n",
       "      <td>Tue</td>\n",
       "      <td>0</td>\n",
       "    </tr>\n",
       "    <tr>\n",
       "      <th>1</th>\n",
       "      <td>1500</td>\n",
       "      <td>0.7</td>\n",
       "      <td>76</td>\n",
       "      <td>2</td>\n",
       "      <td>0</td>\n",
       "      <td>1</td>\n",
       "      <td>1</td>\n",
       "      <td>Tue</td>\n",
       "      <td>0</td>\n",
       "    </tr>\n",
       "    <tr>\n",
       "      <th>2</th>\n",
       "      <td>1140</td>\n",
       "      <td>0.7</td>\n",
       "      <td>76</td>\n",
       "      <td>16</td>\n",
       "      <td>0</td>\n",
       "      <td>1</td>\n",
       "      <td>1</td>\n",
       "      <td>Tue</td>\n",
       "      <td>0</td>\n",
       "    </tr>\n",
       "    <tr>\n",
       "      <th>3</th>\n",
       "      <td>1920</td>\n",
       "      <td>1.7</td>\n",
       "      <td>76</td>\n",
       "      <td>56</td>\n",
       "      <td>0</td>\n",
       "      <td>1</td>\n",
       "      <td>1</td>\n",
       "      <td>Tue</td>\n",
       "      <td>0</td>\n",
       "    </tr>\n",
       "    <tr>\n",
       "      <th>4</th>\n",
       "      <td>2580</td>\n",
       "      <td>0.9</td>\n",
       "      <td>8</td>\n",
       "      <td>56</td>\n",
       "      <td>1</td>\n",
       "      <td>1</td>\n",
       "      <td>1</td>\n",
       "      <td>Tue</td>\n",
       "      <td>0</td>\n",
       "    </tr>\n",
       "    <tr>\n",
       "      <th>...</th>\n",
       "      <td>...</td>\n",
       "      <td>...</td>\n",
       "      <td>...</td>\n",
       "      <td>...</td>\n",
       "      <td>...</td>\n",
       "      <td>...</td>\n",
       "      <td>...</td>\n",
       "      <td>...</td>\n",
       "      <td>...</td>\n",
       "    </tr>\n",
       "    <tr>\n",
       "      <th>11398001</th>\n",
       "      <td>240</td>\n",
       "      <td>0.8</td>\n",
       "      <td>39</td>\n",
       "      <td>38</td>\n",
       "      <td>11</td>\n",
       "      <td>12</td>\n",
       "      <td>31</td>\n",
       "      <td>Tue</td>\n",
       "      <td>54</td>\n",
       "    </tr>\n",
       "    <tr>\n",
       "      <th>11398002</th>\n",
       "      <td>1080</td>\n",
       "      <td>3.5</td>\n",
       "      <td>33</td>\n",
       "      <td>8</td>\n",
       "      <td>12</td>\n",
       "      <td>12</td>\n",
       "      <td>31</td>\n",
       "      <td>Tue</td>\n",
       "      <td>54</td>\n",
       "    </tr>\n",
       "    <tr>\n",
       "      <th>11398003</th>\n",
       "      <td>1020</td>\n",
       "      <td>3.1</td>\n",
       "      <td>8</td>\n",
       "      <td>33</td>\n",
       "      <td>12</td>\n",
       "      <td>12</td>\n",
       "      <td>31</td>\n",
       "      <td>Tue</td>\n",
       "      <td>54</td>\n",
       "    </tr>\n",
       "    <tr>\n",
       "      <th>11398004</th>\n",
       "      <td>840</td>\n",
       "      <td>5.8</td>\n",
       "      <td>33</td>\n",
       "      <td>41</td>\n",
       "      <td>13</td>\n",
       "      <td>12</td>\n",
       "      <td>31</td>\n",
       "      <td>Tue</td>\n",
       "      <td>54</td>\n",
       "    </tr>\n",
       "    <tr>\n",
       "      <th>11398005</th>\n",
       "      <td>1860</td>\n",
       "      <td>4.0</td>\n",
       "      <td>35</td>\n",
       "      <td>35</td>\n",
       "      <td>16</td>\n",
       "      <td>12</td>\n",
       "      <td>31</td>\n",
       "      <td>Tue</td>\n",
       "      <td>54</td>\n",
       "    </tr>\n",
       "  </tbody>\n",
       "</table>\n",
       "<p>11398006 rows × 9 columns</p>\n",
       "</div>"
      ],
      "text/plain": [
       "          secs  miles  pickup  dropoff  hour  month  day wday  company_id\n",
       "0         1260    0.6      77       28     0      1    1  Tue           0\n",
       "1         1500    0.7      76        2     0      1    1  Tue           0\n",
       "2         1140    0.7      76       16     0      1    1  Tue           0\n",
       "3         1920    1.7      76       56     0      1    1  Tue           0\n",
       "4         2580    0.9       8       56     1      1    1  Tue           0\n",
       "...        ...    ...     ...      ...   ...    ...  ...  ...         ...\n",
       "11398001   240    0.8      39       38    11     12   31  Tue          54\n",
       "11398002  1080    3.5      33        8    12     12   31  Tue          54\n",
       "11398003  1020    3.1       8       33    12     12   31  Tue          54\n",
       "11398004   840    5.8      33       41    13     12   31  Tue          54\n",
       "11398005  1860    4.0      35       35    16     12   31  Tue          54\n",
       "\n",
       "[11398006 rows x 9 columns]"
      ]
     },
     "execution_count": 14,
     "metadata": {},
     "output_type": "execute_result"
    }
   ],
   "source": [
    "df"
   ]
  },
  {
   "cell_type": "code",
   "execution_count": 5,
   "id": "b3724cd7",
   "metadata": {},
   "outputs": [
    {
     "data": {
      "text/plain": [
       "['secs', 'miles', 'pickup', 'dropoff', 'hour', 'mday', 'company_id']"
      ]
     },
     "execution_count": 5,
     "metadata": {},
     "output_type": "execute_result"
    }
   ],
   "source": [
    "cols = df.columns.values.tolist()\n",
    "cols"
   ]
  },
  {
   "cell_type": "code",
   "execution_count": 15,
   "id": "2fb3df86",
   "metadata": {},
   "outputs": [
    {
     "data": {
      "text/plain": [
       "array([ 1,  2,  3,  4,  5,  6,  7,  8,  9, 10, 11, 12], dtype=int64)"
      ]
     },
     "execution_count": 15,
     "metadata": {},
     "output_type": "execute_result"
    }
   ],
   "source": [
    "unique_values = df['month'].unique()\n",
    "unique_values"
   ]
  },
  {
   "cell_type": "code",
   "execution_count": 16,
   "id": "131683b6",
   "metadata": {},
   "outputs": [],
   "source": [
    "for x in unique_values:\n",
    "    df_month = df[df['month'] == x]\n",
    "    file_name = f\"month{x}.tsv\"\n",
    "    df_month.to_csv(file_name, index=False, header=True, mode='a')"
   ]
  },
  {
   "cell_type": "code",
   "execution_count": 17,
   "id": "e152e094",
   "metadata": {},
   "outputs": [
    {
     "data": {
      "text/plain": [
       "array([ 0,  1,  2,  3,  4,  5,  6,  7,  8,  9, 10, 11, 12, 13, 14, 15, 16,\n",
       "       17, 18, 19, 20, 21, 22, 23, 24, 25, 26, 27, 28, 29, 30, 31, 32, 33,\n",
       "       34, 35, 36, 37, 38, 39, 40, 41, 42, 43, 44, 45, 46, 47, 48, 49, 50,\n",
       "       51, 52, 53, 54], dtype=int64)"
      ]
     },
     "execution_count": 17,
     "metadata": {},
     "output_type": "execute_result"
    }
   ],
   "source": [
    "unique_values = df['company_id'].unique()\n",
    "unique_values"
   ]
  },
  {
   "cell_type": "code",
   "execution_count": 18,
   "id": "3169b353",
   "metadata": {},
   "outputs": [],
   "source": [
    "for x in unique_values:\n",
    "    df_comp = df[df['company_id'] == x]\n",
    "    file_name = f\"company{x}.tsv\"\n",
    "    df_comp.to_csv(file_name, index=False, header=True, mode='a')"
   ]
  },
  {
   "cell_type": "code",
   "execution_count": 19,
   "id": "c214cf45",
   "metadata": {},
   "outputs": [
    {
     "data": {
      "text/plain": [
       "array([77, 76,  8, 56,  6, 32, 33, 28,  7, 71, 62, 45, 43, 24, 22, 17,  3,\n",
       "       21, 10, 14, 41,  2, 42, 69, 59, 16, 15, 58, 44,  5, 12, 40, 46, 34,\n",
       "       11,  4,  1, 68, 19, 73, 70, 13, 53, 60, 65,  9, 67, 54, 29, 23, 38,\n",
       "       27, 36, 50, 64, 51, 26, 25, 49, 66, 31, 35, 20, 57, 61, 75, 39, 30,\n",
       "       37, 47, 48, 72, 55, 63, 18, 52, 74], dtype=int64)"
      ]
     },
     "execution_count": 19,
     "metadata": {},
     "output_type": "execute_result"
    }
   ],
   "source": [
    "unique_values = df['pickup'].unique()\n",
    "unique_values"
   ]
  },
  {
   "cell_type": "code",
   "execution_count": 20,
   "id": "5ebae431",
   "metadata": {},
   "outputs": [],
   "source": [
    "for x in unique_values:\n",
    "    df_area = df[df['pickup'] == x]\n",
    "    file_name = f\"pickuparea{x}.tsv\"\n",
    "    df_area.to_csv(file_name, index=False, header=True, mode='a')"
   ]
  },
  {
   "cell_type": "code",
   "execution_count": 21,
   "id": "63008b06",
   "metadata": {},
   "outputs": [
    {
     "data": {
      "text/plain": [
       "array([28,  2, 16, 56, 10, 77, 33,  5, 14, 44,  3, 32, 76,  8, 63, 21, 22,\n",
       "        6,  4, 41, 23,  7, 24, 39, 31, 45, 72, 35, 42, 43, 60, 12,  1, 49,\n",
       "       64, 69, 61, 19, 40, 65, 30,  9, 15, 27, 25, 34, 70, 13, 66, 29, 59,\n",
       "       18, 11, 71, 75, 68, 17, 38, 20, 67, 57, 62, 73, 51, 36, 53, 46, 47,\n",
       "       58, 50, 74, 48, 37, 26, 54, 52, 55], dtype=int64)"
      ]
     },
     "execution_count": 21,
     "metadata": {},
     "output_type": "execute_result"
    }
   ],
   "source": [
    "unique_values = df['dropoff'].unique()\n",
    "unique_values"
   ]
  },
  {
   "cell_type": "code",
   "execution_count": 22,
   "id": "8d484967",
   "metadata": {},
   "outputs": [],
   "source": [
    "for x in unique_values:\n",
    "    df_area = df[df['dropoff'] == x]\n",
    "    file_name = f\"dropoffarea{x}.tsv\"\n",
    "    df_area.to_csv(file_name, index=False, header=True, mode='a')"
   ]
  }
 ],
 "metadata": {
  "kernelspec": {
   "display_name": "Python 3 (ipykernel)",
   "language": "python",
   "name": "python3"
  },
  "language_info": {
   "codemirror_mode": {
    "name": "ipython",
    "version": 3
   },
   "file_extension": ".py",
   "mimetype": "text/x-python",
   "name": "python",
   "nbconvert_exporter": "python",
   "pygments_lexer": "ipython3",
   "version": "3.9.7"
  }
 },
 "nbformat": 4,
 "nbformat_minor": 5
}
